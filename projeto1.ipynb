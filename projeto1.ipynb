{
 "cells": [
  {
   "cell_type": "code",
   "execution_count": 4,
   "metadata": {},
   "outputs": [],
   "source": [
    "import pandas as pd \n",
    "import numpy as np \n",
    "from matplotlib import pyplot as plt \n"
   ]
  },
  {
   "cell_type": "markdown",
   "metadata": {},
   "source": [
    "# Importando o arquivo csv"
   ]
  },
  {
   "cell_type": "code",
   "execution_count": 7,
   "metadata": {},
   "outputs": [],
   "source": [
    "base = pd.read_csv(r'/home/gustavo82/Área de Trabalho/Projeto dados/indicadoressegurancapublicauf.csv')"
   ]
  },
  {
   "cell_type": "code",
   "execution_count": 8,
   "metadata": {},
   "outputs": [
    {
     "name": "stdout",
     "output_type": "stream",
     "text": [
      "              UF                           Tipo Crime   Ano       Mês  \\\n",
      "0           Acre                              Estupro  2021   janeiro   \n",
      "1           Acre                     Furto de veículo  2021   janeiro   \n",
      "2           Acre                     Homicídio doloso  2021   janeiro   \n",
      "3           Acre      Lesão corporal seguida de morte  2021   janeiro   \n",
      "4           Acre       Roubo a instituição financeira  2021   janeiro   \n",
      "...          ...                                  ...   ...       ...   \n",
      "18769  Tocantins       Roubo a instituição financeira  2015  dezembro   \n",
      "18770  Tocantins                       Roubo de carga  2015  dezembro   \n",
      "18771  Tocantins                     Roubo de veículo  2015  dezembro   \n",
      "18772  Tocantins  Roubo seguido de morte (latrocínio)  2015  dezembro   \n",
      "18773  Tocantins               Tentativa de homicídio  2015  dezembro   \n",
      "\n",
      "       Ocorrências  \n",
      "0               39  \n",
      "1               55  \n",
      "2               14  \n",
      "3                0  \n",
      "4                0  \n",
      "...            ...  \n",
      "18769            6  \n",
      "18770            1  \n",
      "18771           55  \n",
      "18772            2  \n",
      "18773           42  \n",
      "\n",
      "[18774 rows x 5 columns]\n"
     ]
    }
   ],
   "source": [
    "print(base)"
   ]
  },
  {
   "cell_type": "markdown",
   "metadata": {},
   "source": [
    "# Selecionando apenas o Estado do Pará"
   ]
  },
  {
   "cell_type": "code",
   "execution_count": 14,
   "metadata": {},
   "outputs": [],
   "source": [
    "base_Pará = base.loc[base['UF']=='Pará']"
   ]
  },
  {
   "cell_type": "code",
   "execution_count": 15,
   "metadata": {},
   "outputs": [
    {
     "name": "stdout",
     "output_type": "stream",
     "text": [
      "         UF                           Tipo Crime   Ano       Mês  Ocorrências\n",
      "691    Pará                              Estupro  2021   janeiro          258\n",
      "692    Pará                     Furto de veículo  2021   janeiro          263\n",
      "693    Pará                     Homicídio doloso  2021   janeiro          210\n",
      "694    Pará      Lesão corporal seguida de morte  2021   janeiro            2\n",
      "695    Pará       Roubo a instituição financeira  2021   janeiro            0\n",
      "...     ...                                  ...   ...       ...          ...\n",
      "17389  Pará       Roubo a instituição financeira  2015  dezembro            1\n",
      "17390  Pará                       Roubo de carga  2015  dezembro           12\n",
      "17391  Pará                     Roubo de veículo  2015  dezembro          551\n",
      "17392  Pará  Roubo seguido de morte (latrocínio)  2015  dezembro           14\n",
      "17393  Pará               Tentativa de homicídio  2015  dezembro          112\n",
      "\n",
      "[702 rows x 5 columns]\n"
     ]
    }
   ],
   "source": [
    "print(base_Pará)"
   ]
  },
  {
   "cell_type": "code",
   "execution_count": 16,
   "metadata": {},
   "outputs": [
    {
     "data": {
      "text/html": [
       "<div>\n",
       "<style scoped>\n",
       "    .dataframe tbody tr th:only-of-type {\n",
       "        vertical-align: middle;\n",
       "    }\n",
       "\n",
       "    .dataframe tbody tr th {\n",
       "        vertical-align: top;\n",
       "    }\n",
       "\n",
       "    .dataframe thead th {\n",
       "        text-align: right;\n",
       "    }\n",
       "</style>\n",
       "<table border=\"1\" class=\"dataframe\">\n",
       "  <thead>\n",
       "    <tr style=\"text-align: right;\">\n",
       "      <th></th>\n",
       "      <th>Ano</th>\n",
       "      <th>Ocorrências</th>\n",
       "    </tr>\n",
       "  </thead>\n",
       "  <tbody>\n",
       "    <tr>\n",
       "      <th>count</th>\n",
       "      <td>702.000000</td>\n",
       "      <td>702.000000</td>\n",
       "    </tr>\n",
       "    <tr>\n",
       "      <th>mean</th>\n",
       "      <td>2017.769231</td>\n",
       "      <td>157.420228</td>\n",
       "    </tr>\n",
       "    <tr>\n",
       "      <th>std</th>\n",
       "      <td>1.888706</td>\n",
       "      <td>172.760556</td>\n",
       "    </tr>\n",
       "    <tr>\n",
       "      <th>min</th>\n",
       "      <td>2015.000000</td>\n",
       "      <td>0.000000</td>\n",
       "    </tr>\n",
       "    <tr>\n",
       "      <th>25%</th>\n",
       "      <td>2016.000000</td>\n",
       "      <td>7.000000</td>\n",
       "    </tr>\n",
       "    <tr>\n",
       "      <th>50%</th>\n",
       "      <td>2018.000000</td>\n",
       "      <td>117.500000</td>\n",
       "    </tr>\n",
       "    <tr>\n",
       "      <th>75%</th>\n",
       "      <td>2019.000000</td>\n",
       "      <td>274.750000</td>\n",
       "    </tr>\n",
       "    <tr>\n",
       "      <th>max</th>\n",
       "      <td>2021.000000</td>\n",
       "      <td>857.000000</td>\n",
       "    </tr>\n",
       "  </tbody>\n",
       "</table>\n",
       "</div>"
      ],
      "text/plain": [
       "               Ano  Ocorrências\n",
       "count   702.000000   702.000000\n",
       "mean   2017.769231   157.420228\n",
       "std       1.888706   172.760556\n",
       "min    2015.000000     0.000000\n",
       "25%    2016.000000     7.000000\n",
       "50%    2018.000000   117.500000\n",
       "75%    2019.000000   274.750000\n",
       "max    2021.000000   857.000000"
      ]
     },
     "execution_count": 16,
     "metadata": {},
     "output_type": "execute_result"
    }
   ],
   "source": [
    "base_Pará.describe()"
   ]
  },
  {
   "cell_type": "markdown",
   "metadata": {},
   "source": [
    "# Selecionando o ano de 2015"
   ]
  },
  {
   "cell_type": "code",
   "execution_count": 17,
   "metadata": {},
   "outputs": [],
   "source": [
    "base_Pará_2015 = base_Pará[base_Pará['Ano']== 2015]"
   ]
  },
  {
   "cell_type": "code",
   "execution_count": 18,
   "metadata": {},
   "outputs": [
    {
     "name": "stdout",
     "output_type": "stream",
     "text": [
      "         UF                           Tipo Crime   Ano       Mês  Ocorrências\n",
      "17286  Pará                              Estupro  2015   janeiro          175\n",
      "17287  Pará                     Furto de veículo  2015   janeiro          225\n",
      "17288  Pará                     Homicídio doloso  2015   janeiro          286\n",
      "17289  Pará      Lesão corporal seguida de morte  2015   janeiro            5\n",
      "17290  Pará       Roubo a instituição financeira  2015   janeiro            1\n",
      "...     ...                                  ...   ...       ...          ...\n",
      "17389  Pará       Roubo a instituição financeira  2015  dezembro            1\n",
      "17390  Pará                       Roubo de carga  2015  dezembro           12\n",
      "17391  Pará                     Roubo de veículo  2015  dezembro          551\n",
      "17392  Pará  Roubo seguido de morte (latrocínio)  2015  dezembro           14\n",
      "17393  Pará               Tentativa de homicídio  2015  dezembro          112\n",
      "\n",
      "[108 rows x 5 columns]\n"
     ]
    }
   ],
   "source": [
    "print(base_Pará_2015)"
   ]
  },
  {
   "cell_type": "code",
   "execution_count": 19,
   "metadata": {},
   "outputs": [],
   "source": [
    "base_Pará_2015_jan = base_Pará_2015.loc[base_Pará_2015['Mês']== 'janeiro']"
   ]
  },
  {
   "cell_type": "code",
   "execution_count": 33,
   "metadata": {},
   "outputs": [
    {
     "name": "stdout",
     "output_type": "stream",
     "text": [
      "         UF                           Tipo Crime   Ano      Mês  Ocorrências\n",
      "17286  Pará                              Estupro  2015  janeiro          175\n",
      "17287  Pará                     Furto de veículo  2015  janeiro          225\n",
      "17288  Pará                     Homicídio doloso  2015  janeiro          286\n",
      "17289  Pará      Lesão corporal seguida de morte  2015  janeiro            5\n",
      "17290  Pará       Roubo a instituição financeira  2015  janeiro            1\n",
      "17291  Pará                       Roubo de carga  2015  janeiro            9\n",
      "17292  Pará                     Roubo de veículo  2015  janeiro          440\n",
      "17293  Pará  Roubo seguido de morte (latrocínio)  2015  janeiro           15\n",
      "17294  Pará               Tentativa de homicídio  2015  janeiro          146\n"
     ]
    }
   ],
   "source": [
    "print(base_Pará_2015_jan)"
   ]
  },
  {
   "cell_type": "code",
   "execution_count": 25,
   "metadata": {},
   "outputs": [
    {
     "data": {
      "image/png": "[encoded data removed]",
      "text/plain": [
       "<Figure size 432x288 with 1 Axes>"
      ]
     },
     "metadata": {
      "needs_background": "light"
     },
     "output_type": "display_data"
    }
   ],
   "source": [
    "plt.title('Crimes cometidos no Pará em Janeiro de 2015')\n",
    "plt.barh(base_Pará_2015_jan['Tipo Crime'], base_Pará_2015_jan['Ocorrências'],color ='red')\n",
    "plt.show()"
   ]
  },
  {
   "cell_type": "code",
   "execution_count": 28,
   "metadata": {},
   "outputs": [],
   "source": [
    "base_Pará_2016 = base_Pará[base_Pará['Ano']==2016]"
   ]
  },
  {
   "cell_type": "code",
   "execution_count": 29,
   "metadata": {},
   "outputs": [
    {
     "name": "stdout",
     "output_type": "stream",
     "text": [
      "         UF                           Tipo Crime   Ano       Mês  Ocorrências\n",
      "14403  Pará                              Estupro  2016   janeiro          204\n",
      "14404  Pará                     Furto de veículo  2016   janeiro          260\n",
      "14405  Pará                     Homicídio doloso  2016   janeiro          297\n",
      "14406  Pará      Lesão corporal seguida de morte  2016   janeiro            6\n",
      "14407  Pará       Roubo a instituição financeira  2016   janeiro            3\n",
      "...     ...                                  ...   ...       ...          ...\n",
      "14506  Pará       Roubo a instituição financeira  2016  dezembro            3\n",
      "14507  Pará                       Roubo de carga  2016  dezembro           15\n",
      "14508  Pará                     Roubo de veículo  2016  dezembro          559\n",
      "14509  Pará  Roubo seguido de morte (latrocínio)  2016  dezembro           12\n",
      "14510  Pará               Tentativa de homicídio  2016  dezembro          115\n",
      "\n",
      "[108 rows x 5 columns]\n"
     ]
    }
   ],
   "source": [
    "print(base_Pará_2016)"
   ]
  },
  {
   "cell_type": "code",
   "execution_count": 49,
   "metadata": {},
   "outputs": [],
   "source": [
    "base_Pará_2017 = base_Pará[base_Pará['Ano']==2017]"
   ]
  },
  {
   "cell_type": "code",
   "execution_count": 50,
   "metadata": {},
   "outputs": [],
   "source": [
    "base_Pará_2018 = base_Pará[base_Pará['Ano']==2018]"
   ]
  },
  {
   "cell_type": "code",
   "execution_count": 51,
   "metadata": {},
   "outputs": [],
   "source": [
    "base_Pará_2019 = base_Pará[base_Pará['Ano']==2019]"
   ]
  },
  {
   "cell_type": "code",
   "execution_count": 52,
   "metadata": {},
   "outputs": [],
   "source": [
    "base_Pará_2020 = base_Pará[base_Pará['Ano']==2020]"
   ]
  },
  {
   "cell_type": "code",
   "execution_count": 53,
   "metadata": {},
   "outputs": [],
   "source": [
    "base_Pará_2021 = base_Pará[base_Pará['Ano']==2021]"
   ]
  },
  {
   "cell_type": "code",
   "execution_count": 54,
   "metadata": {},
   "outputs": [],
   "source": [
    "# Gerando o arquivo excel\n",
    "writer = pd.ExcelWriter('tabelas_ocorrências_PA_2015_2021.xlsx', engine='xlsxwriter')"
   ]
  },
  {
   "cell_type": "code",
   "execution_count": 56,
   "metadata": {},
   "outputs": [],
   "source": [
    "base_Pará_2015.to_excel(writer,sheet_name = '2015')\n",
    "base_Pará_2016.to_excel(writer,sheet_name = '2016')\n",
    "base_Pará_2017.to_excel(writer,sheet_name = '2017')\n",
    "base_Pará_2018.to_excel(writer,sheet_name = '2018')\n",
    "base_Pará_2019.to_excel(writer,sheet_name = '2019')\n",
    "base_Pará_2020.to_excel(writer,sheet_name = '2020')\n",
    "base_Pará_2021.to_excel(writer,sheet_name = '2021')\n",
    "writer.save()"
   ]
  },
  {
   "cell_type": "code",
   "execution_count": null,
   "metadata": {},
   "outputs": [],
   "source": []
  }
 ],
 "metadata": {
  "interpreter": {
   "hash": "89e66da322dd8c38379b0f59a44513e898470003d4cb3e752fe5e7271e0bc534"
  },
  "kernelspec": {
   "display_name": "Python 3.9.5 64-bit ('projeto_dados1': venv)",
   "language": "python",
   "name": "python3"
  },
  "language_info": {
   "codemirror_mode": {
    "name": "ipython",
    "version": 3
   },
   "file_extension": ".py",
   "mimetype": "text/x-python",
   "name": "python",
   "nbconvert_exporter": "python",
   "pygments_lexer": "ipython3",
   "version": "3.9.5"
  },
  "orig_nbformat": 4
 },
 "nbformat": 4,
 "nbformat_minor": 2
}
