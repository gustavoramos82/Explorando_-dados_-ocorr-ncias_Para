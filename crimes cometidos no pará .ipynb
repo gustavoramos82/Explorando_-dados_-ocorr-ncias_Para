{
 "cells": [
  {
   "cell_type": "markdown",
   "metadata": {},
   "source": [
    "## Importando as blibiotecas\n"
   ]
  },
  {
   "cell_type": "code",
   "execution_count": 2,
   "metadata": {},
   "outputs": [],
   "source": [
    "import pandas as pd \n",
    "import numpy as np \n",
    "from matplotlib import pyplot as plt "
   ]
  },
  {
   "cell_type": "markdown",
   "metadata": {},
   "source": [
    "#### importando o arquivo"
   ]
  },
  {
   "cell_type": "code",
   "execution_count": 3,
   "metadata": {},
   "outputs": [],
   "source": [
    "ocorr_br = pd.read_csv(r'/home/gustavo82/Área de Trabalho/Projeto dados/projeto_dados1/indicadoressegurancapublicauf.csv')"
   ]
  },
  {
   "cell_type": "code",
   "execution_count": 4,
   "metadata": {},
   "outputs": [
    {
     "data": {
      "text/html": [
       "<div>\n",
       "<style scoped>\n",
       "    .dataframe tbody tr th:only-of-type {\n",
       "        vertical-align: middle;\n",
       "    }\n",
       "\n",
       "    .dataframe tbody tr th {\n",
       "        vertical-align: top;\n",
       "    }\n",
       "\n",
       "    .dataframe thead th {\n",
       "        text-align: right;\n",
       "    }\n",
       "</style>\n",
       "<table border=\"1\" class=\"dataframe\">\n",
       "  <thead>\n",
       "    <tr style=\"text-align: right;\">\n",
       "      <th></th>\n",
       "      <th>UF</th>\n",
       "      <th>Tipo Crime</th>\n",
       "      <th>Ano</th>\n",
       "      <th>Mês</th>\n",
       "      <th>Ocorrências</th>\n",
       "    </tr>\n",
       "  </thead>\n",
       "  <tbody>\n",
       "    <tr>\n",
       "      <th>0</th>\n",
       "      <td>Acre</td>\n",
       "      <td>Estupro</td>\n",
       "      <td>2021</td>\n",
       "      <td>janeiro</td>\n",
       "      <td>39</td>\n",
       "    </tr>\n",
       "    <tr>\n",
       "      <th>1</th>\n",
       "      <td>Acre</td>\n",
       "      <td>Furto de veículo</td>\n",
       "      <td>2021</td>\n",
       "      <td>janeiro</td>\n",
       "      <td>55</td>\n",
       "    </tr>\n",
       "    <tr>\n",
       "      <th>2</th>\n",
       "      <td>Acre</td>\n",
       "      <td>Homicídio doloso</td>\n",
       "      <td>2021</td>\n",
       "      <td>janeiro</td>\n",
       "      <td>14</td>\n",
       "    </tr>\n",
       "    <tr>\n",
       "      <th>3</th>\n",
       "      <td>Acre</td>\n",
       "      <td>Lesão corporal seguida de morte</td>\n",
       "      <td>2021</td>\n",
       "      <td>janeiro</td>\n",
       "      <td>0</td>\n",
       "    </tr>\n",
       "    <tr>\n",
       "      <th>4</th>\n",
       "      <td>Acre</td>\n",
       "      <td>Roubo a instituição financeira</td>\n",
       "      <td>2021</td>\n",
       "      <td>janeiro</td>\n",
       "      <td>0</td>\n",
       "    </tr>\n",
       "  </tbody>\n",
       "</table>\n",
       "</div>"
      ],
      "text/plain": [
       "     UF                       Tipo Crime   Ano      Mês  Ocorrências\n",
       "0  Acre                          Estupro  2021  janeiro           39\n",
       "1  Acre                 Furto de veículo  2021  janeiro           55\n",
       "2  Acre                 Homicídio doloso  2021  janeiro           14\n",
       "3  Acre  Lesão corporal seguida de morte  2021  janeiro            0\n",
       "4  Acre   Roubo a instituição financeira  2021  janeiro            0"
      ]
     },
     "execution_count": 4,
     "metadata": {},
     "output_type": "execute_result"
    }
   ],
   "source": [
    "ocorr_br.head(5)"
   ]
  },
  {
   "cell_type": "markdown",
   "metadata": {},
   "source": [
    "#### Selecionado apenas o Estado do Pará"
   ]
  },
  {
   "cell_type": "code",
   "execution_count": 5,
   "metadata": {},
   "outputs": [],
   "source": [
    "ocorr_PA = ocorr_br[ocorr_br['UF']=='Pará']"
   ]
  },
  {
   "cell_type": "code",
   "execution_count": 6,
   "metadata": {},
   "outputs": [
    {
     "data": {
      "text/html": [
       "<div>\n",
       "<style scoped>\n",
       "    .dataframe tbody tr th:only-of-type {\n",
       "        vertical-align: middle;\n",
       "    }\n",
       "\n",
       "    .dataframe tbody tr th {\n",
       "        vertical-align: top;\n",
       "    }\n",
       "\n",
       "    .dataframe thead th {\n",
       "        text-align: right;\n",
       "    }\n",
       "</style>\n",
       "<table border=\"1\" class=\"dataframe\">\n",
       "  <thead>\n",
       "    <tr style=\"text-align: right;\">\n",
       "      <th></th>\n",
       "      <th>UF</th>\n",
       "      <th>Tipo Crime</th>\n",
       "      <th>Ano</th>\n",
       "      <th>Mês</th>\n",
       "      <th>Ocorrências</th>\n",
       "    </tr>\n",
       "  </thead>\n",
       "  <tbody>\n",
       "    <tr>\n",
       "      <th>691</th>\n",
       "      <td>Pará</td>\n",
       "      <td>Estupro</td>\n",
       "      <td>2021</td>\n",
       "      <td>janeiro</td>\n",
       "      <td>258</td>\n",
       "    </tr>\n",
       "    <tr>\n",
       "      <th>692</th>\n",
       "      <td>Pará</td>\n",
       "      <td>Furto de veículo</td>\n",
       "      <td>2021</td>\n",
       "      <td>janeiro</td>\n",
       "      <td>263</td>\n",
       "    </tr>\n",
       "    <tr>\n",
       "      <th>693</th>\n",
       "      <td>Pará</td>\n",
       "      <td>Homicídio doloso</td>\n",
       "      <td>2021</td>\n",
       "      <td>janeiro</td>\n",
       "      <td>210</td>\n",
       "    </tr>\n",
       "    <tr>\n",
       "      <th>694</th>\n",
       "      <td>Pará</td>\n",
       "      <td>Lesão corporal seguida de morte</td>\n",
       "      <td>2021</td>\n",
       "      <td>janeiro</td>\n",
       "      <td>2</td>\n",
       "    </tr>\n",
       "    <tr>\n",
       "      <th>695</th>\n",
       "      <td>Pará</td>\n",
       "      <td>Roubo a instituição financeira</td>\n",
       "      <td>2021</td>\n",
       "      <td>janeiro</td>\n",
       "      <td>0</td>\n",
       "    </tr>\n",
       "  </tbody>\n",
       "</table>\n",
       "</div>"
      ],
      "text/plain": [
       "       UF                       Tipo Crime   Ano      Mês  Ocorrências\n",
       "691  Pará                          Estupro  2021  janeiro          258\n",
       "692  Pará                 Furto de veículo  2021  janeiro          263\n",
       "693  Pará                 Homicídio doloso  2021  janeiro          210\n",
       "694  Pará  Lesão corporal seguida de morte  2021  janeiro            2\n",
       "695  Pará   Roubo a instituição financeira  2021  janeiro            0"
      ]
     },
     "execution_count": 6,
     "metadata": {},
     "output_type": "execute_result"
    }
   ],
   "source": [
    "ocorr_PA.head(5)"
   ]
  },
  {
   "cell_type": "code",
   "execution_count": 7,
   "metadata": {},
   "outputs": [],
   "source": [
    "#Separando as ocorrências por ano\n",
    "ocorr_PA_2015 = ocorr_PA[ocorr_PA['Ano']==2015]\n",
    "ocorr_PA_2016 = ocorr_PA[ocorr_PA['Ano']==2016]\n",
    "ocorr_PA_2017 = ocorr_PA[ocorr_PA['Ano']==2017]\n",
    "ocorr_PA_2018 = ocorr_PA[ocorr_PA['Ano']==2018]\n",
    "ocorr_PA_2019 = ocorr_PA[ocorr_PA['Ano']==2019]\n",
    "ocorr_PA_2020 = ocorr_PA[ocorr_PA['Ano']==2020]\n",
    "ocorr_PA_2021 = ocorr_PA[ocorr_PA['Ano']==2021]\n",
    "# Lembre-se que no ano de 2021 estão computados até junho"
   ]
  },
  {
   "cell_type": "markdown",
   "metadata": {},
   "source": [
    "### Sepando os crimes e Fazendo as somas\n"
   ]
  },
  {
   "cell_type": "markdown",
   "metadata": {},
   "source": [
    "### 2015"
   ]
  },
  {
   "cell_type": "code",
   "execution_count": 8,
   "metadata": {},
   "outputs": [
    {
     "data": {
      "text/html": [
       "<div>\n",
       "<style scoped>\n",
       "    .dataframe tbody tr th:only-of-type {\n",
       "        vertical-align: middle;\n",
       "    }\n",
       "\n",
       "    .dataframe tbody tr th {\n",
       "        vertical-align: top;\n",
       "    }\n",
       "\n",
       "    .dataframe thead th {\n",
       "        text-align: right;\n",
       "    }\n",
       "</style>\n",
       "<table border=\"1\" class=\"dataframe\">\n",
       "  <thead>\n",
       "    <tr style=\"text-align: right;\">\n",
       "      <th></th>\n",
       "      <th>UF</th>\n",
       "      <th>Tipo Crime</th>\n",
       "      <th>Ano</th>\n",
       "      <th>Mês</th>\n",
       "      <th>Ocorrências</th>\n",
       "    </tr>\n",
       "  </thead>\n",
       "  <tbody>\n",
       "    <tr>\n",
       "      <th>17286</th>\n",
       "      <td>Pará</td>\n",
       "      <td>Estupro</td>\n",
       "      <td>2015</td>\n",
       "      <td>janeiro</td>\n",
       "      <td>175</td>\n",
       "    </tr>\n",
       "    <tr>\n",
       "      <th>17287</th>\n",
       "      <td>Pará</td>\n",
       "      <td>Furto de veículo</td>\n",
       "      <td>2015</td>\n",
       "      <td>janeiro</td>\n",
       "      <td>225</td>\n",
       "    </tr>\n",
       "    <tr>\n",
       "      <th>17288</th>\n",
       "      <td>Pará</td>\n",
       "      <td>Homicídio doloso</td>\n",
       "      <td>2015</td>\n",
       "      <td>janeiro</td>\n",
       "      <td>286</td>\n",
       "    </tr>\n",
       "    <tr>\n",
       "      <th>17289</th>\n",
       "      <td>Pará</td>\n",
       "      <td>Lesão corporal seguida de morte</td>\n",
       "      <td>2015</td>\n",
       "      <td>janeiro</td>\n",
       "      <td>5</td>\n",
       "    </tr>\n",
       "    <tr>\n",
       "      <th>17290</th>\n",
       "      <td>Pará</td>\n",
       "      <td>Roubo a instituição financeira</td>\n",
       "      <td>2015</td>\n",
       "      <td>janeiro</td>\n",
       "      <td>1</td>\n",
       "    </tr>\n",
       "    <tr>\n",
       "      <th>17291</th>\n",
       "      <td>Pará</td>\n",
       "      <td>Roubo de carga</td>\n",
       "      <td>2015</td>\n",
       "      <td>janeiro</td>\n",
       "      <td>9</td>\n",
       "    </tr>\n",
       "    <tr>\n",
       "      <th>17292</th>\n",
       "      <td>Pará</td>\n",
       "      <td>Roubo de veículo</td>\n",
       "      <td>2015</td>\n",
       "      <td>janeiro</td>\n",
       "      <td>440</td>\n",
       "    </tr>\n",
       "    <tr>\n",
       "      <th>17293</th>\n",
       "      <td>Pará</td>\n",
       "      <td>Roubo seguido de morte (latrocínio)</td>\n",
       "      <td>2015</td>\n",
       "      <td>janeiro</td>\n",
       "      <td>15</td>\n",
       "    </tr>\n",
       "    <tr>\n",
       "      <th>17294</th>\n",
       "      <td>Pará</td>\n",
       "      <td>Tentativa de homicídio</td>\n",
       "      <td>2015</td>\n",
       "      <td>janeiro</td>\n",
       "      <td>146</td>\n",
       "    </tr>\n",
       "  </tbody>\n",
       "</table>\n",
       "</div>"
      ],
      "text/plain": [
       "         UF                           Tipo Crime   Ano      Mês  Ocorrências\n",
       "17286  Pará                              Estupro  2015  janeiro          175\n",
       "17287  Pará                     Furto de veículo  2015  janeiro          225\n",
       "17288  Pará                     Homicídio doloso  2015  janeiro          286\n",
       "17289  Pará      Lesão corporal seguida de morte  2015  janeiro            5\n",
       "17290  Pará       Roubo a instituição financeira  2015  janeiro            1\n",
       "17291  Pará                       Roubo de carga  2015  janeiro            9\n",
       "17292  Pará                     Roubo de veículo  2015  janeiro          440\n",
       "17293  Pará  Roubo seguido de morte (latrocínio)  2015  janeiro           15\n",
       "17294  Pará               Tentativa de homicídio  2015  janeiro          146"
      ]
     },
     "execution_count": 8,
     "metadata": {},
     "output_type": "execute_result"
    }
   ],
   "source": [
    "ocorr_PA_2015.head(9)"
   ]
  },
  {
   "cell_type": "code",
   "execution_count": 9,
   "metadata": {},
   "outputs": [],
   "source": [
    "estupro_2015 = ocorr_PA_2015[ocorr_PA_2015['Tipo Crime']=='Estupro']\n",
    "furto_veic_2015 = ocorr_PA_2015[ocorr_PA_2015['Tipo Crime']=='Furto de veículo']\n",
    "hom_dolos_2015 = ocorr_PA_2015[ocorr_PA_2015['Tipo Crime']=='Homicídio doloso']\n",
    "Les_mor_2015 = ocorr_PA_2015[ocorr_PA_2015['Tipo Crime']=='Lesão corporal seguida de morte']\n",
    "roubo_fin_2015 = ocorr_PA_2015[ocorr_PA_2015['Tipo Crime']=='Roubo a instituição financeira']\n",
    "roubo_carga_2015 = ocorr_PA_2015[ocorr_PA_2015['Tipo Crime']=='Roubo de carga']\n",
    "roubo_veic_2015 = ocorr_PA_2015[ocorr_PA_2015['Tipo Crime']=='Roubo de veículo']\n",
    "roubo_morte_2015 = ocorr_PA_2015[ocorr_PA_2015['Tipo Crime']=='Roubo seguido de morte (latrocínio)']\n",
    "tent_hom_2015 = ocorr_PA_2015[ocorr_PA_2015['Tipo Crime']=='Tentativa de homicídio']\n"
   ]
  },
  {
   "cell_type": "code",
   "execution_count": 10,
   "metadata": {},
   "outputs": [
    {
     "data": {
      "text/html": [
       "<div>\n",
       "<style scoped>\n",
       "    .dataframe tbody tr th:only-of-type {\n",
       "        vertical-align: middle;\n",
       "    }\n",
       "\n",
       "    .dataframe tbody tr th {\n",
       "        vertical-align: top;\n",
       "    }\n",
       "\n",
       "    .dataframe thead th {\n",
       "        text-align: right;\n",
       "    }\n",
       "</style>\n",
       "<table border=\"1\" class=\"dataframe\">\n",
       "  <thead>\n",
       "    <tr style=\"text-align: right;\">\n",
       "      <th></th>\n",
       "      <th>UF</th>\n",
       "      <th>Tipo Crime</th>\n",
       "      <th>Ano</th>\n",
       "      <th>Mês</th>\n",
       "      <th>Ocorrências</th>\n",
       "    </tr>\n",
       "  </thead>\n",
       "  <tbody>\n",
       "    <tr>\n",
       "      <th>17286</th>\n",
       "      <td>Pará</td>\n",
       "      <td>Estupro</td>\n",
       "      <td>2015</td>\n",
       "      <td>janeiro</td>\n",
       "      <td>175</td>\n",
       "    </tr>\n",
       "    <tr>\n",
       "      <th>17295</th>\n",
       "      <td>Pará</td>\n",
       "      <td>Estupro</td>\n",
       "      <td>2015</td>\n",
       "      <td>fevereiro</td>\n",
       "      <td>174</td>\n",
       "    </tr>\n",
       "    <tr>\n",
       "      <th>17304</th>\n",
       "      <td>Pará</td>\n",
       "      <td>Estupro</td>\n",
       "      <td>2015</td>\n",
       "      <td>março</td>\n",
       "      <td>201</td>\n",
       "    </tr>\n",
       "    <tr>\n",
       "      <th>17313</th>\n",
       "      <td>Pará</td>\n",
       "      <td>Estupro</td>\n",
       "      <td>2015</td>\n",
       "      <td>abril</td>\n",
       "      <td>226</td>\n",
       "    </tr>\n",
       "    <tr>\n",
       "      <th>17322</th>\n",
       "      <td>Pará</td>\n",
       "      <td>Estupro</td>\n",
       "      <td>2015</td>\n",
       "      <td>maio</td>\n",
       "      <td>225</td>\n",
       "    </tr>\n",
       "    <tr>\n",
       "      <th>17331</th>\n",
       "      <td>Pará</td>\n",
       "      <td>Estupro</td>\n",
       "      <td>2015</td>\n",
       "      <td>junho</td>\n",
       "      <td>226</td>\n",
       "    </tr>\n",
       "    <tr>\n",
       "      <th>17340</th>\n",
       "      <td>Pará</td>\n",
       "      <td>Estupro</td>\n",
       "      <td>2015</td>\n",
       "      <td>julho</td>\n",
       "      <td>240</td>\n",
       "    </tr>\n",
       "    <tr>\n",
       "      <th>17349</th>\n",
       "      <td>Pará</td>\n",
       "      <td>Estupro</td>\n",
       "      <td>2015</td>\n",
       "      <td>agosto</td>\n",
       "      <td>212</td>\n",
       "    </tr>\n",
       "    <tr>\n",
       "      <th>17358</th>\n",
       "      <td>Pará</td>\n",
       "      <td>Estupro</td>\n",
       "      <td>2015</td>\n",
       "      <td>setembro</td>\n",
       "      <td>245</td>\n",
       "    </tr>\n",
       "  </tbody>\n",
       "</table>\n",
       "</div>"
      ],
      "text/plain": [
       "         UF Tipo Crime   Ano        Mês  Ocorrências\n",
       "17286  Pará    Estupro  2015    janeiro          175\n",
       "17295  Pará    Estupro  2015  fevereiro          174\n",
       "17304  Pará    Estupro  2015      março          201\n",
       "17313  Pará    Estupro  2015      abril          226\n",
       "17322  Pará    Estupro  2015       maio          225\n",
       "17331  Pará    Estupro  2015      junho          226\n",
       "17340  Pará    Estupro  2015      julho          240\n",
       "17349  Pará    Estupro  2015     agosto          212\n",
       "17358  Pará    Estupro  2015   setembro          245"
      ]
     },
     "execution_count": 10,
     "metadata": {},
     "output_type": "execute_result"
    }
   ],
   "source": [
    "estupro_2015.head(9)"
   ]
  },
  {
   "cell_type": "code",
   "execution_count": 11,
   "metadata": {},
   "outputs": [],
   "source": [
    "sum_estupro_2015 = np.sum(estupro_2015['Ocorrências'])\n",
    "sum_furto_veic_2015 = np.sum(furto_veic_2015['Ocorrências'])\n",
    "sum_hom_dolos_2015  = np.sum(hom_dolos_2015['Ocorrências'])\n",
    "sum_Les_2015 = np.sum(Les_mor_2015['Ocorrências'])\n",
    "sum_fin_2015 = np.sum(roubo_fin_2015['Ocorrências'])\n",
    "sum_roubo_car_2015 = np.sum(roubo_carga_2015['Ocorrências'])\n",
    "sum_roubo_veic_2015 = np.sum(roubo_veic_2015['Ocorrências'])\n",
    "sum_roubo_morte_2015 = np.sum(roubo_morte_2015['Ocorrências'])\n",
    "sum_tent_hom_2015 = np.sum(tent_hom_2015['Ocorrências'])\n"
   ]
  },
  {
   "cell_type": "code",
   "execution_count": 12,
   "metadata": {},
   "outputs": [],
   "source": [
    "tipo_crime = ['Estupro','Furto de veículo','Homicídio doloso','Lesão corporal seguida de morte',\n",
    "                   'Roubo a instituição financeira','Roubo de carga','Roubo de veículo','Roubo seguido de morte (latrocínio)',\n",
    "                   'Tentativa de homicídio']"
   ]
  },
  {
   "cell_type": "code",
   "execution_count": 13,
   "metadata": {},
   "outputs": [],
   "source": [
    "sum_crime_2015 = [sum_estupro_2015,sum_furto_veic_2015,sum_hom_dolos_2015,sum_Les_2015,sum_fin_2015,sum_roubo_car_2015,\n",
    "                  sum_roubo_veic_2015,sum_roubo_morte_2015,sum_tent_hom_2015]"
   ]
  },
  {
   "cell_type": "code",
   "execution_count": 14,
   "metadata": {},
   "outputs": [
    {
     "name": "stdout",
     "output_type": "stream",
     "text": [
      "[2578, 2826, 3238, 23, 37, 111, 5745, 187, 1540]\n"
     ]
    }
   ],
   "source": [
    "print(sum_crime_2015)"
   ]
  },
  {
   "cell_type": "code",
   "execution_count": 15,
   "metadata": {},
   "outputs": [
    {
     "data": {
      "text/plain": [
       "[]"
      ]
     },
     "execution_count": 15,
     "metadata": {},
     "output_type": "execute_result"
    },
    {
     "data": {
      "image/png": "[encoded data removed]",
      "text/plain": [
       "<Figure size 432x288 with 1 Axes>"
      ]
     },
     "metadata": {
      "needs_background": "light"
     },
     "output_type": "display_data"
    }
   ],
   "source": [
    "plt.title('Ocorrências registradas no Pará em 2015',loc='center')\n",
    "plt.xlabel('Total de ocorrẽncia do ano')\n",
    "plt.ylabel('Tipos de crime')\n",
    "plt.barh(tipo_crime,sum_crime_2015,color = 'blue')\n",
    "plt.plot()"
   ]
  },
  {
   "cell_type": "markdown",
   "metadata": {},
   "source": [
    "### 2016"
   ]
  },
  {
   "cell_type": "code",
   "execution_count": 16,
   "metadata": {},
   "outputs": [],
   "source": [
    "estupro_2016 = ocorr_PA_2016[ocorr_PA_2016['Tipo Crime']=='Estupro']\n",
    "furto_veic_2016 = ocorr_PA_2016[ocorr_PA_2016['Tipo Crime']=='Furto de veículo']\n",
    "hom_dolos_2016 = ocorr_PA_2016[ocorr_PA_2016['Tipo Crime']=='Homicídio doloso']\n",
    "Les_mor_2016 = ocorr_PA_2016[ocorr_PA_2016['Tipo Crime']=='Lesão corporal seguida de morte']\n",
    "roubo_fin_2016 = ocorr_PA_2016[ocorr_PA_2016['Tipo Crime']=='Roubo a instituição financeira']\n",
    "roubo_carga_2016 = ocorr_PA_2016[ocorr_PA_2016['Tipo Crime']=='Roubo de carga']\n",
    "roubo_veic_2016 = ocorr_PA_2016[ocorr_PA_2016['Tipo Crime']=='Roubo de veículo']\n",
    "roubo_morte_2016 = ocorr_PA_2016[ocorr_PA_2016['Tipo Crime']=='Roubo seguido de morte (latrocínio)']\n",
    "tent_hom_2016 = ocorr_PA_2016[ocorr_PA_2016['Tipo Crime']=='Tentativa de homicídio']"
   ]
  },
  {
   "cell_type": "code",
   "execution_count": 17,
   "metadata": {},
   "outputs": [],
   "source": [
    "sum_estupro_2016 = np.sum(estupro_2016['Ocorrências'])\n",
    "sum_furto_veic_2016 = np.sum(furto_veic_2016['Ocorrências'])\n",
    "sum_hom_dolos_2016  = np.sum(hom_dolos_2016['Ocorrências'])\n",
    "sum_Les_2016 = np.sum(Les_mor_2016['Ocorrências'])\n",
    "sum_fin_2016 = np.sum(roubo_fin_2016['Ocorrências'])\n",
    "sum_roubo_car_2016 = np.sum(roubo_carga_2016['Ocorrências'])\n",
    "sum_roubo_veic_2016 = np.sum(roubo_veic_2016['Ocorrências'])\n",
    "sum_roubo_morte_2016 = np.sum(roubo_morte_2016['Ocorrências'])\n",
    "sum_tent_hom_2016 = np.sum(tent_hom_2016['Ocorrências'])"
   ]
  },
  {
   "cell_type": "code",
   "execution_count": 18,
   "metadata": {},
   "outputs": [],
   "source": [
    "sum_crime_2016 = [sum_estupro_2016,sum_furto_veic_2016,sum_furto_veic_2016,sum_Les_2016,\n",
    "                  sum_fin_2016,sum_roubo_car_2016,sum_roubo_veic_2016,sum_roubo_morte_2016,sum_tent_hom_2016]"
   ]
  },
  {
   "cell_type": "code",
   "execution_count": 19,
   "metadata": {},
   "outputs": [
    {
     "data": {
      "image/png": "[encoded data removed]",
      "text/plain": [
       "<Figure size 432x288 with 1 Axes>"
      ]
     },
     "metadata": {
      "needs_background": "light"
     },
     "output_type": "display_data"
    }
   ],
   "source": [
    "plt.title('Ocorrências Registradas no Pará em 2016')\n",
    "plt.xlabel('Ocorrẽncias')\n",
    "plt.ylabel('Tipo de crime')\n",
    "plt.barh(tipo_crime,sum_crime_2016, color = 'purple')\n",
    "plt.show()"
   ]
  },
  {
   "cell_type": "markdown",
   "metadata": {},
   "source": [
    "### 2017"
   ]
  },
  {
   "cell_type": "code",
   "execution_count": 20,
   "metadata": {},
   "outputs": [],
   "source": [
    "estupro_2017 = ocorr_PA_2017[ocorr_PA_2017['Tipo Crime']=='Estupro']\n",
    "furto_veic_2017 = ocorr_PA_2017[ocorr_PA_2017['Tipo Crime']=='Furto de veículo']\n",
    "hom_dolos_2017 = ocorr_PA_2017[ocorr_PA_2017['Tipo Crime']=='Homicídio doloso']\n",
    "Les_mor_2017 = ocorr_PA_2017[ocorr_PA_2017['Tipo Crime']=='Lesão corporal seguida de morte']\n",
    "roubo_fin_2017 = ocorr_PA_2017[ocorr_PA_2017['Tipo Crime']=='Roubo a instituição financeira']\n",
    "roubo_carga_2017 = ocorr_PA_2017[ocorr_PA_2017['Tipo Crime']=='Roubo de carga']\n",
    "roubo_veic_2017 = ocorr_PA_2017[ocorr_PA_2017['Tipo Crime']=='Roubo de veículo']\n",
    "roubo_morte_2017 = ocorr_PA_2017[ocorr_PA_2017['Tipo Crime']=='Roubo seguido de morte (latrocínio)']\n",
    "tent_hom_2017 = ocorr_PA_2017[ocorr_PA_2017['Tipo Crime']=='Tentativa de homicídio']"
   ]
  },
  {
   "cell_type": "code",
   "execution_count": 21,
   "metadata": {},
   "outputs": [],
   "source": [
    "sum_estupro_2017 = np.sum(estupro_2017['Ocorrências'])\n",
    "sum_furto_veic_2017 = np.sum(furto_veic_2017['Ocorrências'])\n",
    "sum_hom_dolos_2017  = np.sum(hom_dolos_2017['Ocorrências'])\n",
    "sum_Les_2017 = np.sum(Les_mor_2017['Ocorrências'])\n",
    "sum_fin_2017 = np.sum(roubo_fin_2017['Ocorrências'])\n",
    "sum_roubo_car_2017 = np.sum(roubo_carga_2017['Ocorrências'])\n",
    "sum_roubo_veic_2017 = np.sum(roubo_veic_2017['Ocorrências'])\n",
    "sum_roubo_morte_2017 = np.sum(roubo_morte_2017['Ocorrências'])\n",
    "sum_tent_hom_2017 = np.sum(tent_hom_2017['Ocorrências'])"
   ]
  },
  {
   "cell_type": "code",
   "execution_count": 22,
   "metadata": {},
   "outputs": [],
   "source": [
    "sum_crime_2017 =[sum_estupro_2017,sum_furto_veic_2017,sum_furto_veic_2017,sum_Les_2017,\n",
    "                  sum_fin_2017,sum_roubo_car_2017,sum_roubo_veic_2017,sum_roubo_morte_2017,sum_tent_hom_2017]"
   ]
  },
  {
   "cell_type": "code",
   "execution_count": 23,
   "metadata": {},
   "outputs": [
    {
     "data": {
      "image/png": "[encoded data removed]",
      "text/plain": [
       "<Figure size 432x288 with 1 Axes>"
      ]
     },
     "metadata": {
      "needs_background": "light"
     },
     "output_type": "display_data"
    }
   ],
   "source": [
    "plt.title('Ocorrências Registradas no Pará em 2017')\n",
    "plt.xlabel('Ocorrẽncias')\n",
    "plt.ylabel('Tipo de crime')\n",
    "plt.barh(tipo_crime,sum_crime_2017, color = 'yellow')\n",
    "plt.show()"
   ]
  },
  {
   "cell_type": "markdown",
   "metadata": {},
   "source": [
    "### 2018"
   ]
  },
  {
   "cell_type": "code",
   "execution_count": 24,
   "metadata": {},
   "outputs": [],
   "source": [
    "estupro_2018 = ocorr_PA_2018[ocorr_PA_2018['Tipo Crime']=='Estupro']\n",
    "furto_veic_2018 = ocorr_PA_2018[ocorr_PA_2018['Tipo Crime']=='Furto de veículo']\n",
    "hom_dolos_2018 = ocorr_PA_2018[ocorr_PA_2018['Tipo Crime']=='Homicídio doloso']\n",
    "Les_mor_2018 = ocorr_PA_2018[ocorr_PA_2018['Tipo Crime']=='Lesão corporal seguida de morte']\n",
    "roubo_fin_2018 = ocorr_PA_2018[ocorr_PA_2018['Tipo Crime']=='Roubo a instituição financeira']\n",
    "roubo_carga_2018 = ocorr_PA_2018[ocorr_PA_2018['Tipo Crime']=='Roubo de carga']\n",
    "roubo_veic_2018 = ocorr_PA_2018[ocorr_PA_2018['Tipo Crime']=='Roubo de veículo']\n",
    "roubo_morte_2018 = ocorr_PA_2018[ocorr_PA_2018['Tipo Crime']=='Roubo seguido de morte (latrocínio)']\n",
    "tent_hom_2018 = ocorr_PA_2018[ocorr_PA_2018['Tipo Crime']=='Tentativa de homicídio']"
   ]
  },
  {
   "cell_type": "code",
   "execution_count": 25,
   "metadata": {},
   "outputs": [],
   "source": [
    "sum_estupro_2018 = np.sum(estupro_2018['Ocorrências'])\n",
    "sum_furto_veic_2018 = np.sum(furto_veic_2018['Ocorrências'])\n",
    "sum_hom_dolos_2018  = np.sum(hom_dolos_2018['Ocorrências'])\n",
    "sum_Les_2018 = np.sum(Les_mor_2018['Ocorrências'])\n",
    "sum_fin_2018 = np.sum(roubo_fin_2018['Ocorrências'])\n",
    "sum_roubo_car_2018 = np.sum(roubo_carga_2018['Ocorrências'])\n",
    "sum_roubo_veic_2018 = np.sum(roubo_veic_2018['Ocorrências'])\n",
    "sum_roubo_morte_2018 = np.sum(roubo_morte_2018['Ocorrências'])\n",
    "sum_tent_hom_2018 = np.sum(tent_hom_2018['Ocorrências'])"
   ]
  },
  {
   "cell_type": "code",
   "execution_count": 26,
   "metadata": {},
   "outputs": [],
   "source": [
    "sum_crime_2018 = [sum_estupro_2018,sum_furto_veic_2018,sum_furto_veic_2018,sum_Les_2018,\n",
    "                  sum_fin_2018,sum_roubo_car_2018,sum_roubo_veic_2018,sum_roubo_morte_2018,sum_tent_hom_2018]"
   ]
  },
  {
   "cell_type": "code",
   "execution_count": 27,
   "metadata": {},
   "outputs": [
    {
     "data": {
      "image/png": "[encoded data removed]",
      "text/plain": [
       "<Figure size 432x288 with 1 Axes>"
      ]
     },
     "metadata": {
      "needs_background": "light"
     },
     "output_type": "display_data"
    }
   ],
   "source": [
    "plt.title('Ocorrências Registradas no Pará em 2018')\n",
    "plt.xlabel('Ocorrẽncias')\n",
    "plt.ylabel('Tipo de crime')\n",
    "plt.barh(tipo_crime,sum_crime_2018, color = 'cyan')\n",
    "plt.show()"
   ]
  },
  {
   "cell_type": "markdown",
   "metadata": {},
   "source": [
    "### 2019"
   ]
  },
  {
   "cell_type": "code",
   "execution_count": 28,
   "metadata": {},
   "outputs": [],
   "source": [
    "estupro_2019 = ocorr_PA_2019[ocorr_PA_2019['Tipo Crime']=='Estupro']\n",
    "furto_veic_2019 = ocorr_PA_2019[ocorr_PA_2019['Tipo Crime']=='Furto de veículo']\n",
    "hom_dolos_2019 = ocorr_PA_2019[ocorr_PA_2019['Tipo Crime']=='Homicídio doloso']\n",
    "Les_mor_2019 = ocorr_PA_2019[ocorr_PA_2019['Tipo Crime']=='Lesão corporal seguida de morte']\n",
    "roubo_fin_2019 = ocorr_PA_2019[ocorr_PA_2019['Tipo Crime']=='Roubo a instituição financeira']\n",
    "roubo_carga_2019 = ocorr_PA_2019[ocorr_PA_2019['Tipo Crime']=='Roubo de carga']\n",
    "roubo_veic_2019 = ocorr_PA_2019[ocorr_PA_2019['Tipo Crime']=='Roubo de veículo']\n",
    "roubo_morte_2019 = ocorr_PA_2019[ocorr_PA_2019['Tipo Crime']=='Roubo seguido de morte (latrocínio)']\n",
    "tent_hom_2019 = ocorr_PA_2019[ocorr_PA_2019['Tipo Crime']=='Tentativa de homicídio']"
   ]
  },
  {
   "cell_type": "code",
   "execution_count": 29,
   "metadata": {},
   "outputs": [],
   "source": [
    "sum_estupro_2019 = np.sum(estupro_2019['Ocorrências'])\n",
    "sum_furto_veic_2019 = np.sum(furto_veic_2019['Ocorrências'])\n",
    "sum_hom_dolos_2019  = np.sum(hom_dolos_2019['Ocorrências'])\n",
    "sum_Les_2019 = np.sum(Les_mor_2019['Ocorrências'])\n",
    "sum_fin_2019 = np.sum(roubo_fin_2019['Ocorrências'])\n",
    "sum_roubo_car_2019 = np.sum(roubo_carga_2019['Ocorrências'])\n",
    "sum_roubo_veic_2019 = np.sum(roubo_veic_2019['Ocorrências'])\n",
    "sum_roubo_morte_2019 = np.sum(roubo_morte_2019['Ocorrências'])\n",
    "sum_tent_hom_2019 = np.sum(tent_hom_2019['Ocorrências'])"
   ]
  },
  {
   "cell_type": "code",
   "execution_count": 30,
   "metadata": {},
   "outputs": [],
   "source": [
    "sum_crime_2019 = [sum_estupro_2019,sum_furto_veic_2019,sum_furto_veic_2019,sum_Les_2019,\n",
    "                  sum_fin_2019,sum_roubo_car_2019,sum_roubo_veic_2019,sum_roubo_morte_2019,sum_tent_hom_2019]"
   ]
  },
  {
   "cell_type": "code",
   "execution_count": 31,
   "metadata": {},
   "outputs": [
    {
     "data": {
      "image/png": "[encoded data removed]",
      "text/plain": [
       "<Figure size 432x288 with 1 Axes>"
      ]
     },
     "metadata": {
      "needs_background": "light"
     },
     "output_type": "display_data"
    }
   ],
   "source": [
    "plt.title('Ocorrências Registradas no Pará em 2019')\n",
    "plt.xlabel('Ocorrẽncias')\n",
    "plt.ylabel('Tipo de crime')\n",
    "plt.barh(tipo_crime,sum_crime_2019, color = 'orange')\n",
    "plt.show()"
   ]
  },
  {
   "cell_type": "markdown",
   "metadata": {},
   "source": [
    "### 2020"
   ]
  },
  {
   "cell_type": "code",
   "execution_count": 32,
   "metadata": {},
   "outputs": [],
   "source": [
    "estupro_2020 = ocorr_PA_2020[ocorr_PA_2020['Tipo Crime']=='Estupro']\n",
    "furto_veic_2020 = ocorr_PA_2020[ocorr_PA_2020['Tipo Crime']=='Furto de veículo']\n",
    "hom_dolos_2020 = ocorr_PA_2020[ocorr_PA_2020['Tipo Crime']=='Homicídio doloso']\n",
    "Les_mor_2020 = ocorr_PA_2020[ocorr_PA_2020['Tipo Crime']=='Lesão corporal seguida de morte']\n",
    "roubo_fin_2020 = ocorr_PA_2020[ocorr_PA_2020['Tipo Crime']=='Roubo a instituição financeira']\n",
    "roubo_carga_2020 = ocorr_PA_2020[ocorr_PA_2020['Tipo Crime']=='Roubo de carga']\n",
    "roubo_veic_2020 = ocorr_PA_2020[ocorr_PA_2020['Tipo Crime']=='Roubo de veículo']\n",
    "roubo_morte_2020 = ocorr_PA_2020[ocorr_PA_2020['Tipo Crime']=='Roubo seguido de morte (latrocínio)']\n",
    "tent_hom_2020 = ocorr_PA_2020[ocorr_PA_2020['Tipo Crime']=='Tentativa de homicídio']"
   ]
  },
  {
   "cell_type": "code",
   "execution_count": 33,
   "metadata": {},
   "outputs": [],
   "source": [
    "sum_estupro_2020 = np.sum(estupro_2020['Ocorrências'])\n",
    "sum_furto_veic_2020 = np.sum(furto_veic_2020['Ocorrências'])\n",
    "sum_hom_dolos_2020  = np.sum(hom_dolos_2020['Ocorrências'])\n",
    "sum_Les_2020 = np.sum(Les_mor_2020['Ocorrências'])\n",
    "sum_fin_2020 = np.sum(roubo_fin_2020['Ocorrências'])\n",
    "sum_roubo_car_2020 = np.sum(roubo_carga_2020['Ocorrências'])\n",
    "sum_roubo_veic_2020 = np.sum(roubo_veic_2020['Ocorrências'])\n",
    "sum_roubo_morte_2020 = np.sum(roubo_morte_2020['Ocorrências'])\n",
    "sum_tent_hom_2020 = np.sum(tent_hom_2020['Ocorrências'])"
   ]
  },
  {
   "cell_type": "code",
   "execution_count": 34,
   "metadata": {},
   "outputs": [],
   "source": [
    "sum_crime_2020 = [sum_estupro_2020,sum_furto_veic_2020,sum_furto_veic_2020,sum_Les_2020,\n",
    "                  sum_fin_2020,sum_roubo_car_2020,sum_roubo_veic_2020,sum_roubo_morte_2020,sum_tent_hom_2020]"
   ]
  },
  {
   "cell_type": "code",
   "execution_count": 35,
   "metadata": {},
   "outputs": [
    {
     "data": {
      "image/png": "[encoded data removed]",
      "text/plain": [
       "<Figure size 432x288 with 1 Axes>"
      ]
     },
     "metadata": {
      "needs_background": "light"
     },
     "output_type": "display_data"
    }
   ],
   "source": [
    "plt.title('Ocorrências Registradas no Pará em 2020')\n",
    "plt.xlabel('Ocorrẽncias')\n",
    "plt.ylabel('Tipo de crime')\n",
    "plt.barh(tipo_crime,sum_crime_2020, color = 'brown')\n",
    "plt.show()"
   ]
  },
  {
   "cell_type": "markdown",
   "metadata": {},
   "source": [
    "### 2021 (registrado até junho)"
   ]
  },
  {
   "cell_type": "code",
   "execution_count": 36,
   "metadata": {},
   "outputs": [],
   "source": [
    "estupro_2021 = ocorr_PA_2021[ocorr_PA_2021['Tipo Crime']=='Estupro']\n",
    "furto_veic_2021 = ocorr_PA_2021[ocorr_PA_2021['Tipo Crime']=='Furto de veículo']\n",
    "hom_dolos_2021 = ocorr_PA_2021[ocorr_PA_2021['Tipo Crime']=='Homicídio doloso']\n",
    "Les_mor_2021 = ocorr_PA_2021[ocorr_PA_2021['Tipo Crime']=='Lesão corporal seguida de morte']\n",
    "roubo_fin_2021 = ocorr_PA_2021[ocorr_PA_2021['Tipo Crime']=='Roubo a instituição financeira']\n",
    "roubo_carga_2021 = ocorr_PA_2021[ocorr_PA_2021['Tipo Crime']=='Roubo de carga']\n",
    "roubo_veic_2021 = ocorr_PA_2021[ocorr_PA_2021['Tipo Crime']=='Roubo de veículo']\n",
    "roubo_morte_2021 = ocorr_PA_2021[ocorr_PA_2021['Tipo Crime']=='Roubo seguido de morte (latrocínio)']\n",
    "tent_hom_2021 = ocorr_PA_2021[ocorr_PA_2021['Tipo Crime']=='Tentativa de homicídio']\n"
   ]
  },
  {
   "cell_type": "code",
   "execution_count": 37,
   "metadata": {},
   "outputs": [],
   "source": [
    "sum_estupro_2021 = np.sum(estupro_2021['Ocorrências'])\n",
    "sum_furto_veic_2021 = np.sum(furto_veic_2021['Ocorrências'])\n",
    "sum_hom_dolos_2021  = np.sum(hom_dolos_2021['Ocorrências'])\n",
    "sum_Les_2021 = np.sum(Les_mor_2021['Ocorrências'])\n",
    "sum_fin_2021 = np.sum(roubo_fin_2021['Ocorrências'])\n",
    "sum_roubo_car_2021 = np.sum(roubo_carga_2021['Ocorrências'])\n",
    "sum_roubo_veic_2021 = np.sum(roubo_veic_2021['Ocorrências'])\n",
    "sum_roubo_morte_2021 = np.sum(roubo_morte_2021['Ocorrências'])\n",
    "sum_tent_hom_2021 = np.sum(tent_hom_2021['Ocorrências'])"
   ]
  },
  {
   "cell_type": "code",
   "execution_count": 38,
   "metadata": {},
   "outputs": [],
   "source": [
    "sum_crime_2021 = [sum_estupro_2021,sum_furto_veic_2021,sum_furto_veic_2021,sum_Les_2021,\n",
    "                  sum_fin_2021,sum_roubo_car_2021,sum_roubo_veic_2021,sum_roubo_morte_2021,sum_tent_hom_2021]"
   ]
  },
  {
   "cell_type": "code",
   "execution_count": 39,
   "metadata": {},
   "outputs": [
    {
     "data": {
      "image/png": "[encoded data removed]",
      "text/plain": [
       "<Figure size 432x288 with 1 Axes>"
      ]
     },
     "metadata": {
      "needs_background": "light"
     },
     "output_type": "display_data"
    }
   ],
   "source": [
    "plt.title('Ocorrências Registradas no Pará em 2021 (registrado até junho)',loc='center')\n",
    "plt.xlabel('Ocorrẽncias')\n",
    "plt.ylabel('Tipo de crime')\n",
    "plt.barh(tipo_crime,sum_crime_2021, color = 'green')\n",
    "plt.show()"
   ]
  },
  {
   "cell_type": "markdown",
   "metadata": {},
   "source": [
    "## Juntando todos em um só"
   ]
  }
 ],
 "metadata": {
  "interpreter": {
   "hash": "89e66da322dd8c38379b0f59a44513e898470003d4cb3e752fe5e7271e0bc534"
  },
  "kernelspec": {
   "display_name": "Python 3.9.5 64-bit ('projeto_dados1': venv)",
   "language": "python",
   "name": "python3"
  },
  "language_info": {
   "codemirror_mode": {
    "name": "ipython",
    "version": 3
   },
   "file_extension": ".py",
   "mimetype": "text/x-python",
   "name": "python",
   "nbconvert_exporter": "python",
   "pygments_lexer": "ipython3",
   "version": "3.9.5"
  },
  "orig_nbformat": 4
 },
 "nbformat": 4,
 "nbformat_minor": 2
}
